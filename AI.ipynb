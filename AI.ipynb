from tkinter import *
import nltk
import ast
import nltk.data
from nltk import pos_tag
from nltk.tokenize import word_tokenize, sent_tokenize
from logpy import Relation, var, facts, run, conde
from nltk.corpus import brown
father=Relation()
class relation:
    def __init__(self):
        window = Tk()
        window.title("Relation solver")
        self.frame1 = Frame(window)
        self.label1 = Label(self.frame1,text="**********  REALTIONSHIP SOLVER  **********\n",font="Times 15 italic underline")
        self.label1.pack()
        self.frame1.pack()
        
        self.frame2 = Frame(window)
        self.btn1 = Button(self.frame2,text="   Based on relation\t",font = "Times 15 italic", command = self.relationbased)
        self.btn2 = Button(self.frame2,text="   Based on names\t",font = "Times 15 italic", command = self.namebased)
        self.btn1.pack(side=LEFT)
        self.btn2.pack(side=LEFT)
        self.frame2.pack()
        
        self.frame3 = Frame(window)
        self.label2 = Label(self.frame3,text="\n")
        self.label2.pack()
        self.text=Text(self.frame3)
        self.text.insert(END, "If\ni\ndie\ntrying\natleast\ni\ntried\n")
        self.text.pack()
        self.frame3.pack()
        
        window.mainloop()
    
    def relationbased(self):
        window=Tk()
        window.geometry("1500x500")
        labelw=Label(window,text= "*******  Welcome to relation solver based on relation  *******\n", font = "Times 15 italic underline")
        labelw.pack()
        label1=Label(window,text = "Please enter the corpus : \n",font = "Times 15 italic")
        label1.place(x='200',y='100')
        self.reltext=StringVar()
        self.entry1 =Entry(window,textvariable=self.reltext,width=200)
        self.entry1.place(x='200',y='150')
        btngo = Button(window,text="GO ! ",font='Times 10 bold', command = self.answer1)
        btngo.place(x='700',y='380')
        window.mainloop()
        
    def answer1(self):
        ques=self.entry1.get()
        word1 = word_tokenize(ques)
        sent1 = sent_tokenize(ques)
        #print(sent1)
        sent= sent1
        sentlast = sent1.pop(-1)
        #print(sentlast)
        #print(sent)
        #print(nltk.pos_tag(word1))
        noun1=[word for (word,pos) in nltk.pos_tag(word1) if pos[:] == 'NNP']
        noun = list(dict.fromkeys(noun1))
        relation=[word for (word,pos) in nltk.pos_tag(word1) if pos[:] == 'NN']
        relation2 =[word for (word,pos) in nltk.pos_tag(word1) if pos[:] == 'JJR']
        relation3 =[word for (word,pos) in nltk.pos_tag(word1) if pos[:] == 'RB'] 
        #print(noun)
        RelationList = relation + relation2 + relation3
        #print(RelationList)
        Lastsenttoken = word_tokenize(sentlast)
        Pair ={}
        for w in RelationList:
            #RelationList = Relation()
            sentence_with_Relationword = []
            for sentence in sent1:
                if sentence.count(w)>0:
                    sentence_with_Relationword.append(sentence)
            #print(sentence_with_Relationword)
            for i in range(len(sentence_with_Relationword)):
                x=[]
                x=x+word_tokenize(sentence_with_Relationword[i])
                #print(x)
                
                y=[]
                for i in x:
                    for j in noun:
                        if i==j:
                            y=y+[i]
                #print(y)
                Pair[w] = tuple(y)
                f=open("AI project.txt","a+")
                for key, value in Pair.items():
                    f.write('%s:%s\n' % (key, value))
                f.close()
            f=open("AI project.txt","r")
        
            content=f.read()
        #print(content)
        Lst=content.splitlines()
        
        #print(Lst)
        Lst=set(Lst)
        #print(Lst)
        Lst=list(Lst)
        #print(Lst)
        Dictrel={}
        for w in range(len(Lst)):
            x=Lst[w].split(':')
            #Dictrel[x[0]]=x[1]
            #print(Dictrel)
            if x[0] in Dictrel and x[1] in Dictrel.values():
                continue
            elif x[0] in Dictrel:
                Dictrel[x[0]]=Dictrel[x[0]]+', '+(x[1])
            else:
                Dictrel[x[0]]=x[1]
        #print(Dictrel)
        for w in Dictrel:
            x=w
            w=Relation()
            print(w)
            #print(Dictrel[x])
            #rel=[tuple(map(lambda x: x.replace('(', '').replace(')', ''), i.split(", "))) for i in Dictrel[x].split("), (")]
            #print(rel)
            #y=()
            #for i in range(len(rel)):
                #y=y+rel[i]
            #print(y)
            #res = tuple(y[x:x + 2] for x in range(0, len(y), 2))
            #print(res)
            #print(type(res))
            #facts(w,res)
        #x=var()
        
        #print(Lastsenttoken)
        for w in Lastsenttoken:
            if w =='grandfather':
                print("grandfather")
                father=Relation()
                print(Dictrel[x])
                rel=[tuple(map(lambda x: x.replace('(', '').replace(')', ''), i.split(", "))) for i in Dictrel[x].split("), (")]
                print(rel)
                y=()
                for i in range(len(rel)):
                    y=y+rel[i]
                print(y)
                res = tuple(y[x:x + 2] for x in range(0, len(y), 2))
                print(res)
                print(type(res))
                facts(father,res)
                x=var()
                z=var()
                rel2 = conde((father(x,z),father(z,y)))
                
                print(run(0,x,rel2))
            if w =='grandmother':
                print("grandmother")
            if w =='father':
                print("father")
                
            if w =='mother':
                print("mother")
                
            if w =='son':
                print("son")
                
            if w =='daughter':
                print("daughter")
                
            if w =='Uncle':
                print("Uncle")
                
            if w =='Aunt':
                print("Aunt")
                
            if w =='Nephew':
                print("Nephew")
                
            if w =='Niece':
                print("Neice")
                

    def grandmother(self):
        pass
    def father(self):
        pass
    def mother(self):
        pass
    def son(self):
        pass
    def daughter(self):
        pass
    def Uncle(self):
        pass
    def Aunt(self):
        pass
    def Nephew(self):
        pass
    def Neice(self):
        pass
    def namebased(self):
        pass
relation()
